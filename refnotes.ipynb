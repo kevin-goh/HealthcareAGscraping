{
 "cells": [
  {
   "cell_type": "markdown",
   "metadata": {},
   "source": [
    "## Topic Descriptions\n",
    "* Topic 1: Solo/Partnership deals to boost production / manufacturing.\n",
    "* Topic 2: Other Vaccines.\n",
    "* Topic 3: Car-T, CGT.\n",
    "* Topic 4: COVID-19 Vaccines\n",
    "* Topic 5: Clinical trials / studies for new therapeutics.\n",
    "* Topic 6: Could refer to clinical trial deaths or other health incidents.\n",
    "* Topic 7: Innovations in Drug delivery e.g., injectables. Also digital health\n"
   ]
  }
 ],
 "metadata": {
  "language_info": {
   "name": "python"
  },
  "orig_nbformat": 4
 },
 "nbformat": 4,
 "nbformat_minor": 2
}
