{
 "cells": [
  {
   "cell_type": "markdown",
   "metadata": {},
   "source": [
    "## Topic Descriptions\n",
    "* Topic 1: COVID-19 Vaccines\n",
    "* Topic 2: Drug Development / Trials.\n",
    "* Topic 3: CAR-T, CGT, Therapeutic Innovations\n",
    "* Topic 4: Other Vaccines\n",
    "* Topic 5: Solo/Partnership deals to boost production / manufacturing.\n",
    "* Topic 6: Regulatory news.\n",
    "* Topic 7: Cancers\n"
   ]
  }
 ],
 "metadata": {
  "language_info": {
   "name": "python"
  },
  "orig_nbformat": 4
 },
 "nbformat": 4,
 "nbformat_minor": 2
}
